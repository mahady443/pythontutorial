{
 "cells": [
  {
   "cell_type": "code",
   "execution_count": 1,
   "id": "43848e27",
   "metadata": {},
   "outputs": [
    {
     "name": "stdout",
     "output_type": "stream",
     "text": [
      "<title>Race results for the 2018 MLK Dream Run!</title>\n",
      "Race results for the 2018 MLK Dream Run!\n",
      "https://www.mlkdreamrun.com/\n",
      "mailto:timing@hubertiming.com\n",
      "https://www.hubertiming.com\n",
      "/results/2018MLK10K\n",
      "/results/2018MLK15K\n",
      "/results/summary/2018MLK\n",
      "#tabs-1\n",
      "https://www.hubertiming.com/\n",
      "https://facebook.com/hubertiming/\n"
     ]
    }
   ],
   "source": [
    "\n",
    "import pandas as pd\n",
    "import matplotlib.pyplot as plt\n",
    "from urllib.request import urlopen\n",
    "from bs4 import BeautifulSoup\n",
    "import re # manipulate regular expression\n",
    "\n",
    "url=\"https://www.hubertiming.com/results/2018MLK\"\n",
    "html=urlopen(url)\n",
    "soup = BeautifulSoup(html,)\n",
    "title=soup.title\n",
    "print(title)\n",
    "print(title.text) # give only text\n",
    "# find links\n",
    "links=soup.findAll('a',href=True)\n",
    "for link in links:\n",
    "    print(link['href']) # its return only link in solid text"
   ]
  },
  {
   "cell_type": "code",
   "execution_count": 4,
   "id": "070981b1",
   "metadata": {},
   "outputs": [],
   "source": [
    "data=[]\n",
    "allrows=soup.find_all(\"tr\")\n",
    "#print(allrows)\n",
    "#print(allrows[:10]) # slicing first 10 data\n",
    "for row in allrows:\n",
    "    row_list=soup.find_all(\"td\")\n",
    "    data_row=[]\n",
    "    for cell in row_list:\n",
    "        data_row.append(cell.text)\n",
    "    data.append(data_row)\n",
    "data=data[1:]\n",
    "#print(data[-2:])"
   ]
  },
  {
   "cell_type": "code",
   "execution_count": 5,
   "id": "a06d609f",
   "metadata": {},
   "outputs": [
    {
     "name": "stderr",
     "output_type": "stream",
     "text": [
      "IOPub data rate exceeded.\n",
      "The notebook server will temporarily stop sending output\n",
      "to the client in order to avoid crashing it.\n",
      "To change this limit, set the config variable\n",
      "`--NotebookApp.iopub_data_rate_limit`.\n",
      "\n",
      "Current values:\n",
      "NotebookApp.iopub_data_rate_limit=1000000.0 (bytes/sec)\n",
      "NotebookApp.rate_limit_window=3.0 (secs)\n",
      "\n"
     ]
    }
   ],
   "source": [
    "df=pd.DataFrame(data)\n",
    "print(data)"
   ]
  },
  {
   "cell_type": "code",
   "execution_count": null,
   "id": "12b6780f",
   "metadata": {},
   "outputs": [],
   "source": []
  }
 ],
 "metadata": {
  "kernelspec": {
   "display_name": "Python 3 (ipykernel)",
   "language": "python",
   "name": "python3"
  },
  "language_info": {
   "codemirror_mode": {
    "name": "ipython",
    "version": 3
   },
   "file_extension": ".py",
   "mimetype": "text/x-python",
   "name": "python",
   "nbconvert_exporter": "python",
   "pygments_lexer": "ipython3",
   "version": "3.10.0"
  }
 },
 "nbformat": 4,
 "nbformat_minor": 5
}
